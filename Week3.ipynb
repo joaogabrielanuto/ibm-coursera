{
 "cells": [
  {
   "cell_type": "markdown",
   "id": "aa0e136a",
   "metadata": {},
   "source": [
    "# My Jupyter Notebook on IBM Watson Studio"
   ]
  },
  {
   "cell_type": "markdown",
   "id": "2ea77d37",
   "metadata": {},
   "source": [
    "**João Gabriel Anuto Silva**  \n",
    "I want to be a data scientists at financial markets"
   ]
  },
  {
   "cell_type": "markdown",
   "id": "3f0df882",
   "metadata": {},
   "source": [
    "*I want to be a data scientist because I love to take insights from data and share it with people.*"
   ]
  },
  {
   "cell_type": "markdown",
   "id": "e7eacdfe",
   "metadata": {},
   "source": [
    "### My code calculates the square of a number inserted by the user"
   ]
  },
  {
   "cell_type": "code",
   "execution_count": 6,
   "id": "caee8dd1",
   "metadata": {},
   "outputs": [
    {
     "name": "stdout",
     "output_type": "stream",
     "text": [
      "Type a number: 5\n",
      "The square of  5  is  25\n"
     ]
    }
   ],
   "source": [
    "num = int(input('Type a number: '))\n",
    "square = num * num\n",
    "print('The square of ',num,' is ',square)"
   ]
  },
  {
   "cell_type": "markdown",
   "id": "24f1b266",
   "metadata": {},
   "source": [
    "Horizontal separator below:<br>\n",
    "***  \n",
    "\n",
    "link below:  \n",
    "[IBM official website](www.ibm.com)  \n",
    "\n",
    "List below:  \n",
    "\n",
    "* IBM\n",
    "* Google\n",
    "* Facebook\n",
    "\n",
    "\n",
    "\n"
   ]
  },
  {
   "cell_type": "code",
   "execution_count": null,
   "id": "3410b46a",
   "metadata": {},
   "outputs": [],
   "source": []
  }
 ],
 "metadata": {
  "kernelspec": {
   "display_name": "Python 3 (ipykernel)",
   "language": "python",
   "name": "python3"
  },
  "language_info": {
   "codemirror_mode": {
    "name": "ipython",
    "version": 3
   },
   "file_extension": ".py",
   "mimetype": "text/x-python",
   "name": "python",
   "nbconvert_exporter": "python",
   "pygments_lexer": "ipython3",
   "version": "3.9.12"
  }
 },
 "nbformat": 4,
 "nbformat_minor": 5
}
